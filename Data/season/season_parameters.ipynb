{
 "cells": [
  {
   "cell_type": "code",
   "execution_count": null,
   "metadata": {},
   "outputs": [],
   "source": [
    "import pandas as pd\n",
    "\n",
    "df = pd.read_csv(\"season_2018-2024.csv\")"
   ]
  },
  {
   "cell_type": "code",
   "execution_count": null,
   "metadata": {},
   "outputs": [],
   "source": [
    "df.head()"
   ]
  },
  {
   "cell_type": "code",
   "execution_count": null,
   "metadata": {},
   "outputs": [],
   "source": [
    "fields = [\"FG,\" \"FGA\", \"FG%\", \"2P,\" \"2PA\", \"2P%\", \"3P,\" \"3PA\", \"3P%\", \"FT,\" \"FTA\", \"FT%,\" \"PTS.1\", \"FG.1,\" \"FGA.1\", \"FG%.1\", \"2P.1,\" \"2PA.1\", \"2P%.1\", \"3P.1,\" \"3PA.1\", \"3P%.1\", \"FT.1,\" \"FTA.1\", \"FT%.1,\" \"PTS.2\"]"
   ]
  },
  {
   "cell_type": "code",
   "execution_count": null,
   "metadata": {},
   "outputs": [],
   "source": [
    "inputs = {\n",
    "    \"Season\": \"23-24\",\n",
    "    \"Team\": \"BOS\"\n",
    "}"
   ]
  },
  {
   "cell_type": "code",
   "execution_count": null,
   "metadata": {},
   "outputs": [],
   "source": [
    "df[\"Season\" in df[\"Season\"]]"
   ]
  }
 ],
 "metadata": {
  "kernelspec": {
   "display_name": "Python 3",
   "language": "python",
   "name": "python3"
  },
  "language_info": {
   "name": "python",
   "version": "3.10.11"
  }
 },
 "nbformat": 4,
 "nbformat_minor": 2
}
