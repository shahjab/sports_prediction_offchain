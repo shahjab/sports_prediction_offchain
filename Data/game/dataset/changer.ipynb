{
 "cells": [
  {
   "cell_type": "code",
   "execution_count": 8,
   "metadata": {},
   "outputs": [
    {
     "name": "stdout",
     "output_type": "stream",
     "text": [
      "<class 'str'> == changer.ipynb\n",
      "<class 'str'> == game_2014-2015.csv\n",
      "<class 'str'> == game_2015-2016.csv\n",
      "<class 'str'> == game_2016-2017.csv\n",
      "<class 'str'> == game_2017-2018.csv\n",
      "<class 'str'> == game_2018-2019.csv\n",
      "<class 'str'> == game_2019-2020.csv\n",
      "<class 'str'> == game_2020-2021.csv\n",
      "<class 'str'> == game_2021-2022.csv\n",
      "<class 'str'> == game_2022-2023.csv\n",
      "<class 'str'> == game_2023-2024.csv\n",
      "<class 'str'> == season_2018-2024.csv\n",
      "<class 'str'> == season_2021-2017.csv\n"
     ]
    }
   ],
   "source": [
    "from os import listdir\n",
    "import os\n",
    "\n",
    "def find_csv_filenames( path_to_dir, suffix=\".txt\" ):\n",
    "    filenames = listdir(path_to_dir)\n",
    "    \n",
    "    for filename in filenames:\n",
    "        print(type(filename), \"==\", filename)\n",
    "        if filename.endswith( suffix ):\n",
    "            os.rename(filename, filename[:-3] + \"csv\")\n",
    "    # return [ filename for filename in filenames if filename.endswith( suffix ) ]\n",
    "        \n",
    "find_csv_filenames('./', '.txt')"
   ]
  },
  {
   "cell_type": "code",
   "execution_count": null,
   "metadata": {},
   "outputs": [],
   "source": []
  }
 ],
 "metadata": {
  "kernelspec": {
   "display_name": "Python 3",
   "language": "python",
   "name": "python3"
  },
  "language_info": {
   "codemirror_mode": {
    "name": "ipython",
    "version": 3
   },
   "file_extension": ".py",
   "mimetype": "text/x-python",
   "name": "python",
   "nbconvert_exporter": "python",
   "pygments_lexer": "ipython3",
   "version": "3.10.11"
  }
 },
 "nbformat": 4,
 "nbformat_minor": 2
}
