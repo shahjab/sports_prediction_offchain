{
 "cells": [
  {
   "cell_type": "code",
   "execution_count": 1,
   "metadata": {},
   "outputs": [
    {
     "name": "stdout",
     "output_type": "stream",
     "text": [
      "Package                      Version\n",
      "---------------------------- --------\n",
      "absl-py                      2.1.0\n",
      "astunparse                   1.6.3\n",
      "blinker                      1.7.0\n",
      "cachetools                   5.3.2\n",
      "certifi                      2024.2.2\n",
      "charset-normalizer           3.3.2\n",
      "click                        8.1.7\n",
      "colorama                     0.4.6\n",
      "Flask                        3.0.0\n",
      "flatbuffers                  23.5.26\n",
      "gast                         0.5.4\n",
      "google-auth                  2.27.0\n",
      "google-auth-oauthlib         1.0.0\n",
      "google-pasta                 0.2.0\n",
      "grpcio                       1.60.1\n",
      "h5py                         3.10.0\n",
      "idna                         3.6\n",
      "itsdangerous                 2.1.2\n",
      "Jinja2                       3.1.3\n",
      "joblib                       1.3.2\n",
      "keras                        2.14.0\n",
      "libclang                     16.0.6\n",
      "Markdown                     3.5.2\n",
      "MarkupSafe                   2.1.5\n",
      "ml-dtypes                    0.2.0\n",
      "numpy                        1.26.4\n",
      "oauthlib                     3.2.2\n",
      "opt-einsum                   3.3.0\n",
      "packaging                    23.2\n",
      "pandas                       2.1.1\n",
      "pip                          23.0.1\n",
      "protobuf                     4.25.2\n",
      "pyasn1                       0.5.1\n",
      "pyasn1-modules               0.3.0\n",
      "python-dateutil              2.8.2\n",
      "pytz                         2024.1\n",
      "requests                     2.31.0\n",
      "requests-oauthlib            1.3.1\n",
      "rsa                          4.9\n",
      "sbrscrape                    0.0.10\n",
      "scikit-learn                 1.3.1\n",
      "scipy                        1.12.0\n",
      "setuptools                   65.5.0\n",
      "six                          1.16.0\n",
      "tensorboard                  2.14.1\n",
      "tensorboard-data-server      0.7.2\n",
      "tensorflow                   2.14.0\n",
      "tensorflow-estimator         2.14.0\n",
      "tensorflow-intel             2.14.0\n",
      "tensorflow-io-gcs-filesystem 0.31.0\n",
      "termcolor                    2.4.0\n",
      "threadpoolctl                3.2.0\n",
      "tqdm                         4.66.1\n",
      "typing_extensions            4.9.0\n",
      "tzdata                       2023.4\n",
      "urllib3                      2.2.0\n",
      "Werkzeug                     3.0.1\n",
      "wheel                        0.42.0\n",
      "wrapt                        1.14.1\n",
      "xgboost                      2.0.0\n"
     ]
    },
    {
     "name": "stderr",
     "output_type": "stream",
     "text": [
      "\n",
      "[notice] A new release of pip is available: 23.0.1 -> 24.0\n",
      "[notice] To update, run: E:\\work\\Daily\\2_8\\secret\\NBA-Machine-Learning-Sports-Betting\\venv\\Scripts\\python.exe -m pip install --upgrade pip\n"
     ]
    }
   ],
   "source": [
    "!pip list"
   ]
  },
  {
   "cell_type": "code",
   "execution_count": 2,
   "metadata": {},
   "outputs": [],
   "source": [
    "import pandas as pd\n",
    "import numpy as np\n",
    "\n",
    "from sklearn.model_selection import train_test_split, cross_val_score, GridSearchCV\n",
    "from sklearn.linear_model import LogisticRegression\n",
    "from sklearn.ensemble import RandomForestClassifier\n",
    "from sklearn.neighbors import KNeighborsClassifier\n",
    "from sklearn.naive_bayes import GaussianNB\n",
    "from sklearn.svm import SVC\n",
    "\n",
    "from sklearn.decomposition import PCA\n",
    "from sklearn.feature_selection import SelectKBest\n",
    "\n",
    "from sklearn.metrics import accuracy_score, confusion_matrix, ConfusionMatrixDisplay"
   ]
  },
  {
   "cell_type": "code",
   "execution_count": 3,
   "metadata": {},
   "outputs": [],
   "source": [
    "seed = 99"
   ]
  },
  {
   "cell_type": "markdown",
   "metadata": {},
   "source": [
    "Data Load"
   ]
  },
  {
   "cell_type": "code",
   "execution_count": null,
   "metadata": {},
   "outputs": [],
   "source": [
    "season"
   ]
  },
  {
   "cell_type": "code",
   "execution_count": null,
   "metadata": {},
   "outputs": [],
   "source": [
    "results_df = pd.DataFrame(columns=['model_name', 'cv_score', 'gs_score', 'train_score', 'test_score'])\n",
    "residuals_df = pd.DataFrame(columns = ['y_true'])\n",
    "residuals_df['y_true'] = "
   ]
  }
 ],
 "metadata": {
  "kernelspec": {
   "display_name": "Python 3",
   "language": "python",
   "name": "python3"
  },
  "language_info": {
   "codemirror_mode": {
    "name": "ipython",
    "version": 3
   },
   "file_extension": ".py",
   "mimetype": "text/x-python",
   "name": "python",
   "nbconvert_exporter": "python",
   "pygments_lexer": "ipython3",
   "version": "3.10.11"
  }
 },
 "nbformat": 4,
 "nbformat_minor": 2
}
